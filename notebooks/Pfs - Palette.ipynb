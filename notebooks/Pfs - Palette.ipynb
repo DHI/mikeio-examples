{
 "cells": [
  {
   "cell_type": "markdown",
   "metadata": {},
   "source": [
    "# PFS - Palette\n",
    "\n",
    "Create a palette file for use with Mike Zero based on a matplotlib colormap"
   ]
  },
  {
   "cell_type": "code",
   "execution_count": 1,
   "metadata": {},
   "outputs": [],
   "source": [
    "import mikeio\n",
    "from io import StringIO"
   ]
  },
  {
   "cell_type": "markdown",
   "metadata": {},
   "source": [
    "Start with a simple palette skeleton"
   ]
  },
  {
   "cell_type": "code",
   "execution_count": 2,
   "metadata": {},
   "outputs": [],
   "source": [
    "text = \"\"\"\n",
    "[PALETTE_FILE]\n",
    "   [MIKEZero_Palette_Definition]\n",
    "      Palette_Title = 'Palette'\n",
    "      Palette_Type = 0\n",
    "      Locked = false\n",
    "      Topmost_Value = false\n",
    "      Nice_Value = true\n",
    "      RGB_Delete_Color = 255, 255, 255\n",
    "      RGB_Color_Value = 122, 209, 81\n",
    "      RGB_Color_Value = 253, 231, 37\n",
    "   EndSect  // MIKEZero_Palette_Definition\n",
    "\n",
    "EndSect  // PALETTE_FILE\n",
    "\"\"\""
   ]
  },
  {
   "cell_type": "code",
   "execution_count": 3,
   "metadata": {},
   "outputs": [],
   "source": [
    "pfs = mikeio.read_pfs(StringIO(text), unique_keywords=False)"
   ]
  },
  {
   "cell_type": "code",
   "execution_count": 4,
   "metadata": {},
   "outputs": [
    {
     "data": {
      "image/png": "[encoded data removed]",
      "text/html": [
       "<div style=\"vertical-align: middle;\"><strong>viridis</strong> </div><div class=\"cmap\"><img alt=\"viridis colormap\" title=\"viridis\" style=\"border: 1px solid #555;\" src=\"data:image/png;base64,iVBORw0KGgoAAAANSUhEUgAAAgAAAABACAYAAABsv8+/AAAAFnRFWHRUaXRsZQB2aXJpZGlzIGNvbG9ybWFwrE0mCwAAABx0RVh0RGVzY3JpcHRpb24AdmlyaWRpcyBjb2xvcm1hcAtjl3IAAAAwdEVYdEF1dGhvcgBNYXRwbG90bGliIHYzLjYuMCwgaHR0cHM6Ly9tYXRwbG90bGliLm9yZ+GocwIAAAAydEVYdFNvZnR3YXJlAE1hdHBsb3RsaWIgdjMuNi4wLCBodHRwczovL21hdHBsb3RsaWIub3Jnzw7sJQAAAiJJREFUeJzt1kGSmzAURdEv2FqWkP0vJfQgMhQCGceV2Ttn4pL0EVQPum771X5vVVXVWv39XfrPeV193V5zS98f1sf5/fPjey73zu6/3Hv/uz2cz57f9vP68rxO9+/zre7nhvvG+et6vH92bw3PDfcsD+eX59+/53n96f3362/f87/vf5yr93Of72/fPV9P89tX3zGeH3OT8/07Zs+/32+TuXZZD8/VODf8W5uuH/b7vctlfuv7NazH8/t7ZnP7bz2cD3NL+/Ph3Hl+/efz83vWun/vuL++nquH9eu9w/uu6/vvOO49f/8xf77vOj+8b7Y/fMfse9ca/y7nv+d62a++X+f1vt+G/b7u+/u6TxzzS//tc2053QMABBEAABBIAABAIAEAAIEEAAAEEgAAEEgAAEAgAQAAgQQAAAQSAAAQSAAAQCABAACBBAAABBIAABBIAABAIAEAAIEEAAAEEgAAEEgAAEAgAQAAgQQAAAQSAAAQSAAAQCABAACBBAAABBIAABBIAABAIAEAAIEEAAAEEgAAEEgAAEAgAQAAgQQAAAQSAAAQSAAAQCABAACBBAAABBIAABBIAABAIAEAAIEEAAAEEgAAEEgAAEAgAQAAgQQAAAQSAAAQSAAAQCABAACBBAAABBIAABBIAABAIAEAAIEEAAAEEgAAEEgAAEAgAQAAgQQAAAQSAAAQSAAAQCABAACBBAAABBIAABBIAABAoB9ucImHxcKZtAAAAABJRU5ErkJggg==\"></div><div style=\"vertical-align: middle; max-width: 514px; display: flex; justify-content: space-between;\"><div style=\"float: left;\"><div title=\"#440154ff\" style=\"display: inline-block; width: 1em; height: 1em; margin: 0; vertical-align: middle; border: 1px solid #555; background-color: #440154ff;\"></div> under</div><div style=\"margin: 0 auto; display: inline-block;\">bad <div title=\"#00000000\" style=\"display: inline-block; width: 1em; height: 1em; margin: 0; vertical-align: middle; border: 1px solid #555; background-color: #00000000;\"></div></div><div style=\"float: right;\">over <div title=\"#fde725ff\" style=\"display: inline-block; width: 1em; height: 1em; margin: 0; vertical-align: middle; border: 1px solid #555; background-color: #fde725ff;\"></div></div>"
      ],
      "text/plain": [
       "<matplotlib.colors.ListedColormap at 0x7fa25c44a1d0>"
      ]
     },
     "execution_count": 4,
     "metadata": {},
     "output_type": "execute_result"
    }
   ],
   "source": [
    "from matplotlib import cm\n",
    "\n",
    "cm.viridis"
   ]
  },
  {
   "cell_type": "code",
   "execution_count": 5,
   "metadata": {},
   "outputs": [
    {
     "data": {
      "text/plain": [
       "[[68, 1, 84],\n",
       " [72, 25, 107],\n",
       " [70, 47, 124],\n",
       " [64, 67, 135],\n",
       " [56, 86, 139],\n",
       " [48, 103, 141],\n",
       " [41, 120, 142],\n",
       " [35, 136, 141],\n",
       " [30, 152, 138],\n",
       " [34, 167, 132],\n",
       " [53, 183, 120],\n",
       " [83, 197, 103],\n",
       " [121, 209, 81],\n",
       " [165, 218, 53],\n",
       " [210, 225, 27],\n",
       " [253, 231, 36]]"
      ]
     },
     "execution_count": 5,
     "metadata": {},
     "output_type": "execute_result"
    }
   ],
   "source": [
    "import math\n",
    "import numpy as np\n",
    "vals = np.linspace(0,1, 16)\n",
    "rgbs = [[math.floor(255*x) for x in cm.viridis(val)[:3]] for val in vals]\n",
    "\n",
    "rgbs"
   ]
  },
  {
   "cell_type": "code",
   "execution_count": 6,
   "metadata": {},
   "outputs": [],
   "source": [
    "pfs.PALETTE_FILE.MIKEZero_Palette_Definition.RGB_Color_Value = rgbs"
   ]
  },
  {
   "cell_type": "code",
   "execution_count": 7,
   "metadata": {},
   "outputs": [],
   "source": [
    "pfs.write(\"viridis.pal\")"
   ]
  },
  {
   "cell_type": "code",
   "execution_count": 8,
   "metadata": {},
   "outputs": [
    {
     "name": "stdout",
     "output_type": "stream",
     "text": [
      "// Created     : 2022-11-10 18:13:12\n",
      "// By          : MIKE IO\n",
      "// Version     : 1.2.2\n",
      "\n",
      "[PALETTE_FILE]\n",
      "   [MIKEZero_Palette_Definition]\n",
      "      Palette_Title = 'Palette'\n",
      "      Palette_Type = 0\n",
      "      Locked = false\n",
      "      Topmost_Value = false\n",
      "      Nice_Value = true\n",
      "      RGB_Delete_Color = 255, 255, 255\n",
      "      RGB_Color_Value = 68, 1, 84\n",
      "      RGB_Color_Value = 72, 25, 107\n",
      "      RGB_Color_Value = 70, 47, 124\n",
      "      RGB_Color_Value = 64, 67, 135\n",
      "      RGB_Color_Value = 56, 86, 139\n",
      "      RGB_Color_Value = 48, 103, 141\n",
      "      RGB_Color_Value = 41, 120, 142\n",
      "      RGB_Color_Value = 35, 136, 141\n",
      "      RGB_Color_Value = 30, 152, 138\n",
      "      RGB_Color_Value = 34, 167, 132\n",
      "      RGB_Color_Value = 53, 183, 120\n",
      "      RGB_Color_Value = 83, 197, 103\n",
      "      RGB_Color_Value = 121, 209, 81\n",
      "      RGB_Color_Value = 165, 218, 53\n",
      "      RGB_Color_Value = 210, 225, 27\n",
      "      RGB_Color_Value = 253, 231, 36\n",
      "   EndSect  // MIKEZero_Palette_Definition\n",
      "\n",
      "EndSect  // PALETTE_FILE\n",
      "\n"
     ]
    }
   ],
   "source": [
    "!cat viridis.pal"
   ]
  },
  {
   "cell_type": "code",
   "execution_count": null,
   "metadata": {},
   "outputs": [],
   "source": []
  }
 ],
 "metadata": {
  "kernelspec": {
   "display_name": "Python 3.10.6 ('base')",
   "language": "python",
   "name": "python3"
  },
  "language_info": {
   "codemirror_mode": {
    "name": "ipython",
    "version": 3
   },
   "file_extension": ".py",
   "mimetype": "text/x-python",
   "name": "python",
   "nbconvert_exporter": "python",
   "pygments_lexer": "ipython3",
   "version": "3.10.6"
  },
  "orig_nbformat": 4,
  "vscode": {
   "interpreter": {
    "hash": "29241bd0f6dcdc7baf6ca7a8c63eed3702f363cfda55e5fb2434992ede57da6b"
   }
  }
 },
 "nbformat": 4,
 "nbformat_minor": 2
}
